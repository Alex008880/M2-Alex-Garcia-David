{
 "cells": [
  {
   "cell_type": "code",
   "execution_count": 2,
   "id": "f116b530",
   "metadata": {},
   "outputs": [
    {
     "name": "stdout",
     "output_type": "stream",
     "text": [
      "la nota media es 6.2\n"
     ]
    }
   ],
   "source": [
    "nota_1=5\n",
    "nota_2=6\n",
    "nota_3=9\n",
    "nota_4=4\n",
    "nota_5=7\n",
    "media=(nota_1+nota_2+nota_3+nota_4+nota_5)/5\n",
    "print(\"la nota media es\",media)"
   ]
  },
  {
   "cell_type": "code",
   "execution_count": 3,
   "id": "5de8c261",
   "metadata": {},
   "outputs": [
    {
     "data": {
      "text/plain": [
       "447.12"
      ]
     },
     "execution_count": 3,
     "metadata": {},
     "output_type": "execute_result"
    }
   ],
   "source": [
    "round((365/12)*14.7,2)"
   ]
  }
 ],
 "metadata": {
  "kernelspec": {
   "display_name": "Python 3",
   "language": "python",
   "name": "python3"
  },
  "language_info": {
   "codemirror_mode": {
    "name": "ipython",
    "version": 3
   },
   "file_extension": ".py",
   "mimetype": "text/x-python",
   "name": "python",
   "nbconvert_exporter": "python",
   "pygments_lexer": "ipython3",
   "version": "3.13.7"
  }
 },
 "nbformat": 4,
 "nbformat_minor": 5
}
