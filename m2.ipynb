{
 "cells": [
  {
   "cell_type": "code",
   "execution_count": 5,
   "id": "2c3e8896",
   "metadata": {},
   "outputs": [],
   "source": [
    "entero=23\n",
    "flotante=23.5\n",
    "string=\"hola mundo\"\n",
    "booleano=True"
   ]
  },
  {
   "cell_type": "code",
   "execution_count": 6,
   "id": "1abb22f8",
   "metadata": {},
   "outputs": [
    {
     "name": "stdout",
     "output_type": "stream",
     "text": [
      "AlexGarcia\n",
      "AlexGarcia.\n",
      "AlexAlexAlex\n"
     ]
    }
   ],
   "source": [
    "nombre=\"Alex\"\n",
    "apellido=\"Garcia\" \n",
    "print(nombre+apellido)\n",
    "print(nombre+apellido+\".\")\n",
    "print(nombre*3)"
   ]
  },
  {
   "cell_type": "code",
   "execution_count": 7,
   "id": "a4fa249b",
   "metadata": {},
   "outputs": [
    {
     "name": "stdout",
     "output_type": "stream",
     "text": [
      "Alex Garcia\n",
      "Alex \n"
     ]
    }
   ],
   "source": [
    "nombreCompleto=nombre+\" \"+apellido\n",
    "print(nombreCompleto)\n",
    "print(nombreCompleto[0:5])"
   ]
  }
 ],
 "metadata": {
  "kernelspec": {
   "display_name": "Python 3",
   "language": "python",
   "name": "python3"
  },
  "language_info": {
   "codemirror_mode": {
    "name": "ipython",
    "version": 3
   },
   "file_extension": ".py",
   "mimetype": "text/x-python",
   "name": "python",
   "nbconvert_exporter": "python",
   "pygments_lexer": "ipython3",
   "version": "3.13.7"
  }
 },
 "nbformat": 4,
 "nbformat_minor": 5
}
